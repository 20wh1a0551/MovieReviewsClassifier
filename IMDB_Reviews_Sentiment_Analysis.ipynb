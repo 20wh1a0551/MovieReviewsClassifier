{
  "cells": [
    {
      "cell_type": "code",
      "execution_count": 1,
      "metadata": {
        "id": "YJMMvczenHoZ"
      },
      "outputs": [
        {
          "name": "stderr",
          "output_type": "stream",
          "text": [
            "[nltk_data] Downloading package stopwords to\n",
            "[nltk_data]     C:\\Users\\lasya\\AppData\\Roaming\\nltk_data...\n",
            "[nltk_data]   Package stopwords is already up-to-date!\n"
          ]
        }
      ],
      "source": [
        "import pandas as pd\n",
        "from sklearn.feature_extraction.text import TfidfVectorizer\n",
        "import re\n",
        "import string\n",
        "from sklearn.metrics import accuracy_score, confusion_matrix\n",
        "from sklearn.model_selection import train_test_split\n",
        "from sklearn import metrics\n",
        "import nltk\n",
        "nltk.download('stopwords') \n",
        "from nltk.corpus import stopwords \n",
        "from nltk.stem import PorterStemmer\n",
        "from sklearn.preprocessing import LabelBinarizer\n",
        "from sklearn.pipeline import Pipeline\n",
        "from sklearn.metrics import *\n"
      ]
    },
    {
      "cell_type": "code",
      "execution_count": 2,
      "metadata": {},
      "outputs": [
        {
          "data": {
            "text/plain": [
              "Pipeline(steps=[('vectorizer', TfidfVectorizer()),\n",
              "                ('classifier', LogisticRegression())])"
            ]
          },
          "execution_count": 2,
          "metadata": {},
          "output_type": "execute_result"
        }
      ],
      "source": [
        "df = pd.read_csv('MovieReviewTrainingDatabase.csv')\n",
        "\n",
        "def clean_text1(text):\n",
        "    text=text.lower()\n",
        "    text=re.sub('\\[.*?\\]','',text)\n",
        "    text=re.sub('[%s]'%re.escape(string.punctuation),'',text)\n",
        "    text=re.sub('\\w*\\d\\w*','',text)\n",
        "    return text\n",
        "df['review'] = df['review'].apply(clean_text1)\n",
        "df.head()   \n",
        "\n",
        "def clean_text2(text):\n",
        "    text=re.sub('[''\"\",,,]','',text)\n",
        "    text=re.sub('\\n','',text)\n",
        "    return text\n",
        "\n",
        "df['review'] = df['review'].apply(clean_text2)\n",
        "\n",
        "stop_words = stopwords.words('english')\n",
        "\n",
        "def remove_stopwords(review):\n",
        "    words = review.split()\n",
        "    cleaned = [w for w in words if w not in stop_words]\n",
        "    cleaned = ' '.join(cleaned)\n",
        "    return cleaned \n",
        "df['review'] = df['review'].apply(remove_stopwords)\n",
        "\n",
        "def stemming(review):\n",
        "    stemmer = PorterStemmer()\n",
        "    words = review.split()\n",
        "    stemmed = [stemmer.stem(w) for w in words]\n",
        "    stemmed = ' '.join(stemmed)\n",
        "    return stemmed\n",
        "df['review'] = df['review'].apply(stemming)\n",
        "\n",
        "lb=LabelBinarizer()\n",
        "df['sentiment'] = lb.fit_transform(df['sentiment'])\n",
        "\n",
        "x = df['review']\n",
        "y = df['sentiment']\n",
        "xtrain,xtest,ytrain,ytest = train_test_split(x,y,test_size = 0.3,random_state = 500)\n",
        "\n",
        "tf = TfidfVectorizer()\n",
        "\n",
        "from sklearn.linear_model import LogisticRegression\n",
        "classifier=LogisticRegression()\n",
        "model=Pipeline([('vectorizer',tf),('classifier',classifier)])\n",
        "\n",
        "model.fit(xtrain,ytrain) \n",
        "\n",
        "# ypred = model.predict(xtest)\n",
        "# acc_score = accuracy_score(ypred,ytest)\n",
        "\n"
      ]
    },
    {
      "cell_type": "code",
      "execution_count": 3,
      "metadata": {},
      "outputs": [],
      "source": [
        "from tkinter import *\n",
        "import tkinter as tk\n",
        "from PIL import ImageTk, Image"
      ]
    },
    {
      "cell_type": "code",
      "execution_count": 4,
      "metadata": {},
      "outputs": [
        {
          "name": "stdout",
          "output_type": "stream",
          "text": [
            "0\n"
          ]
        }
      ],
      "source": [
        "root = Tk()\n",
        "root.geometry('2000x2000')\n",
        "image1 = Image.open(\"front.jpg\")\n",
        "bg_img = ImageTk.PhotoImage(image1, master=root) \n",
        "bg_label = Label(root, image=bg_img)\n",
        "bg_label.place(x=0,y=0)\n",
        "root.title(\"Movies Studio\")\n",
        "def review():\n",
        "    window = Tk()\n",
        "    window.geometry(\"2000x2000\")\n",
        "    image2 = Image.open(\"theater.png\")\n",
        "    # resized_img = image2.resize((1250, 750))\n",
        "    bg_img1 = ImageTk.PhotoImage(image2, master=window) \n",
        "    bg_label1 = Label(window, image=bg_img1)\n",
        "    bg_label1.place(x=0,y=0)\n",
        "\n",
        "    i=0\n",
        "    while 1:\n",
        "        try:\n",
        "            image=PhotoImage(file = 'movie.gif', format=\"gif -index \"+str(i))\n",
        "            window.append(image)\n",
        "            i=i+1\n",
        "        except:\n",
        "            break\n",
        "    print(i)\n",
        "    \n",
        "\n",
        "    def sentiment_find():\n",
        "        input_text = box.get()\n",
        "        if(input_text == \"\"):\n",
        "            label1.config(text=\"Please enter your Review\",font=('Arial',20))\n",
        "        else:\n",
        "            input_text = clean_text1(input_text)\n",
        "            input_text = clean_text2(input_text)\n",
        "            input_text = stemming(input_text)\n",
        "            input_text = remove_stopwords(input_text)\n",
        "            review = [input_text]\n",
        "            result = model.predict(review)\n",
        "            \n",
        "            if(result == 1):\n",
        "                emoji_font = (\"Segoe UI Emoji\", 50)\n",
        "                img = Image.open(\"happy.png\")\n",
        "                resized = img.resize((100, 100))\n",
        "                img2=ImageTk.PhotoImage(resized, master = window)\n",
        "                label.configure(image=img2)\n",
        "                label.image=img2\n",
        "            else:\n",
        "                img = Image.open(\"sad.png\")\n",
        "                resized = img.resize((100, 100))\n",
        "                img2=ImageTk.PhotoImage(resized, master = window)\n",
        "                label.configure(image=img2)\n",
        "                label.image=img2\n",
        "           \n",
        "                \n",
        "\n",
        "\n",
        "    box = Entry(window, width = 40,font = ('Arial',20))\n",
        "    box.place(x = 340,y = 170)\n",
        "        \n",
        "    classify = Button(window, text = 'Predict', width = 20,font=('Arial',15), command = sentiment_find) \n",
        "    classify.place(x = 530,y = 220)\n",
        "    def on_click():\n",
        "        label.config(image=\"\")\n",
        "        label1.config(text=\"\")\n",
        "    \n",
        "    # label = tk.Label(window, text = \"\", bg = '#FFFEF2')\n",
        "    label = tk.Label(window, bg = '#FFFEF2')\n",
        "    label.place(x = 600,y = 280)\n",
        "    label1 = tk.Label(window, text = \"\",bg = 'white')\n",
        "    label1.place(x = 490,y = 300)\n",
        "\n",
        "    classify1 = Button(window, text = 'Clear', width = 20,font=('Arial',15), command = on_click) \n",
        "    classify1.place(x = 530,y = 400)\n",
        "    window.mainloop()\n",
        "\n",
        "home_page = Button(root, text = \"Let's Get Started\",font=('Arial',20), width = 25, command = review) \n",
        "home_page.place(x = 800,y = 400)\n",
        "root.mainloop()"
      ]
    }
  ],
  "metadata": {
    "colab": {
      "provenance": []
    },
    "kernelspec": {
      "display_name": "Python 3",
      "name": "python3"
    },
    "language_info": {
      "codemirror_mode": {
        "name": "ipython",
        "version": 3
      },
      "file_extension": ".py",
      "mimetype": "text/x-python",
      "name": "python",
      "nbconvert_exporter": "python",
      "pygments_lexer": "ipython3",
      "version": "3.10.1"
    }
  },
  "nbformat": 4,
  "nbformat_minor": 0
}
